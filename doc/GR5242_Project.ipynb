{
  "nbformat": 4,
  "nbformat_minor": 0,
  "metadata": {
    "colab": {
      "name": "5242_Project_VAE.ipynb",
      "provenance": [],
      "collapsed_sections": []
    },
    "kernelspec": {
      "name": "python3",
      "display_name": "Python 3"
    }
  },
  "cells": [
    {
      "cell_type": "markdown",
      "metadata": {
        "id": "NY7IklSXEU31",
        "colab_type": "text"
      },
      "source": [
        "# **Part 1: Build VAE Model**"
      ]
    },
    {
      "cell_type": "code",
      "metadata": {
        "id": "wBB4a_2HdlJD",
        "colab_type": "code",
        "colab": {}
      },
      "source": [
        " from __future__ import print_function\n",
        "\n",
        "import numpy as np\n",
        "import matplotlib.pyplot as plt\n",
        "from scipy.stats import norm\n",
        "import tensorflow as tf\n",
        "from random import sample\n",
        "\n",
        "from keras.layers import Input, Dense, Lambda\n",
        "from keras.models import Model\n",
        "from keras import backend as K\n",
        "\n",
        "batch_size = 100\n",
        "original_dim = 784\n",
        "latent_dim = 20 ###latent dimension of 50 and 100 were also tried\n",
        "intermediate_dim = 256\n",
        "epochs = 10\n",
        "\n",
        "#load data\n",
        "(x_train, y_train_), (x_test, y_test_) = tf.keras.datasets.fashion_mnist.load_data()\n",
        "x_train3 = x_train.astype('float32') / 255.\n",
        "x_test3 = x_test.astype('float32') / 255.\n",
        "x_train2 = x_train3.reshape((len(x_train3), np.prod(x_train3.shape[1:])))\n",
        "x_test2 = x_test3.reshape((len(x_test3), np.prod(x_test3.shape[1:])))\n"
      ],
      "execution_count": 0,
      "outputs": []
    },
    {
      "cell_type": "code",
      "metadata": {
        "id": "XAxbK971gb4l",
        "colab_type": "code",
        "colab": {}
      },
      "source": [
        "x = Input(shape=(original_dim,))\n",
        "h = Dense(intermediate_dim, activation='relu')(x)\n",
        "\n",
        "#conditional mean and variance of z\n",
        "z_mean = Dense(latent_dim)(h)\n",
        "z_log_var = Dense(latent_dim)(h)\n",
        "\n",
        "\n",
        "def sampling(args):\n",
        "    z_mean, z_log_var = args\n",
        "    epsilon = K.random_normal(shape=K.shape(z_mean))\n",
        "    return z_mean + K.exp(z_log_var / 2) * epsilon\n",
        "\n",
        "z = Lambda(sampling, output_shape=(latent_dim,))([z_mean, z_log_var])"
      ],
      "execution_count": 0,
      "outputs": []
    },
    {
      "cell_type": "code",
      "metadata": {
        "id": "tMKmKX3FghNT",
        "colab_type": "code",
        "outputId": "f581941a-fb13-46bd-81a2-22b710eebf86",
        "colab": {
          "base_uri": "https://localhost:8080/",
          "height": 782
        }
      },
      "source": [
        "import warnings\n",
        "warnings.filterwarnings('ignore')\n",
        "\n",
        "#Construct decoder network\n",
        "decoder_h = Dense(intermediate_dim, activation='relu')\n",
        "decoder_mean = Dense(original_dim, activation='sigmoid')\n",
        "h_decoded = decoder_h(z)\n",
        "x_decoded_mean = decoder_mean(h_decoded)\n",
        "\n",
        "#Build VAE Model\n",
        "vae = Model(x, x_decoded_mean)\n",
        "\n",
        "#The loss is composed of reconstruction loss and KL loss\n",
        "reconstr_loss = K.sum(K.binary_crossentropy(x, x_decoded_mean), axis=-1)\n",
        "kl_loss = - 0.5 * K.sum(1 + z_log_var - K.square(z_mean) - K.exp(z_log_var), axis=-1)\n",
        "vae_loss = K.mean(reconstr_loss + kl_loss)\n",
        "\n",
        "vae.add_loss(vae_loss)\n",
        "vae.compile(optimizer='rmsprop')\n",
        "vae.summary()\n",
        "\n",
        "#Fit VAE model\n",
        "vae.fit(x_train2,\n",
        "        shuffle=True,\n",
        "        epochs=epochs,\n",
        "        batch_size=batch_size,\n",
        "        validation_data=(x_test2, None))"
      ],
      "execution_count": 0,
      "outputs": [
        {
          "output_type": "stream",
          "text": [
            "Model: \"model_4\"\n",
            "__________________________________________________________________________________________________\n",
            "Layer (type)                    Output Shape         Param #     Connected to                     \n",
            "==================================================================================================\n",
            "input_1 (InputLayer)            (None, 784)          0                                            \n",
            "__________________________________________________________________________________________________\n",
            "dense_1 (Dense)                 (None, 256)          200960      input_1[0][0]                    \n",
            "__________________________________________________________________________________________________\n",
            "dense_2 (Dense)                 (None, 20)           5140        dense_1[0][0]                    \n",
            "__________________________________________________________________________________________________\n",
            "dense_3 (Dense)                 (None, 20)           5140        dense_1[0][0]                    \n",
            "__________________________________________________________________________________________________\n",
            "lambda_1 (Lambda)               (None, 20)           0           dense_2[0][0]                    \n",
            "                                                                 dense_3[0][0]                    \n",
            "__________________________________________________________________________________________________\n",
            "dense_14 (Dense)                (None, 256)          5376        lambda_1[0][0]                   \n",
            "__________________________________________________________________________________________________\n",
            "dense_15 (Dense)                (None, 784)          201488      dense_14[0][0]                   \n",
            "==================================================================================================\n",
            "Total params: 418,104\n",
            "Trainable params: 418,104\n",
            "Non-trainable params: 0\n",
            "__________________________________________________________________________________________________\n",
            "Train on 60000 samples, validate on 10000 samples\n",
            "Epoch 1/10\n",
            "60000/60000 [==============================] - 10s 171us/step - loss: 533651.7135 - val_loss: 394.8881\n",
            "Epoch 2/10\n",
            "60000/60000 [==============================] - 9s 150us/step - loss: 437.0619 - val_loss: 408.6340\n",
            "Epoch 3/10\n",
            "60000/60000 [==============================] - 9s 149us/step - loss: 452.7377 - val_loss: 517.0529\n",
            "Epoch 4/10\n",
            "60000/60000 [==============================] - 9s 151us/step - loss: 484.9692 - val_loss: 381.7976\n",
            "Epoch 5/10\n",
            "60000/60000 [==============================] - 9s 150us/step - loss: 513.2493 - val_loss: 915.9015\n",
            "Epoch 6/10\n",
            "60000/60000 [==============================] - 9s 152us/step - loss: 33589.7875 - val_loss: 694.4319\n",
            "Epoch 7/10\n",
            "60000/60000 [==============================] - 9s 148us/step - loss: 1305.6153 - val_loss: 662.5621\n",
            "Epoch 8/10\n",
            "60000/60000 [==============================] - 9s 148us/step - loss: 607.5549 - val_loss: 503.8124\n",
            "Epoch 9/10\n",
            "60000/60000 [==============================] - 9s 152us/step - loss: 252772.9164 - val_loss: 383.6907\n",
            "Epoch 10/10\n",
            "60000/60000 [==============================] - 9s 149us/step - loss: 27777.8647 - val_loss: 542.8137\n"
          ],
          "name": "stdout"
        },
        {
          "output_type": "execute_result",
          "data": {
            "text/plain": [
              "<keras.callbacks.History at 0x7f43a24755f8>"
            ]
          },
          "metadata": {
            "tags": []
          },
          "execution_count": 490
        }
      ]
    },
    {
      "cell_type": "code",
      "metadata": {
        "id": "d2Kez0O_gk-T",
        "colab_type": "code",
        "colab": {}
      },
      "source": [
        "#Construct encoder network\n",
        "encoder = Model(x, z_mean)\n",
        "\n",
        "#Construct decoder network\n",
        "decoder_input = Input(shape=(latent_dim,))\n",
        "_h_decoded = decoder_h(decoder_input)\n",
        "_x_decoded_mean = decoder_mean(_h_decoded)\n",
        "decoder = Model(decoder_input, _x_decoded_mean)"
      ],
      "execution_count": 0,
      "outputs": []
    },
    {
      "cell_type": "markdown",
      "metadata": {
        "id": "WnnncBL-FRr7",
        "colab_type": "text"
      },
      "source": [
        "# **Part 2: Check Generative Model**"
      ]
    },
    {
      "cell_type": "code",
      "metadata": {
        "id": "FX6juTQ44Syu",
        "colab_type": "code",
        "colab": {}
      },
      "source": [
        "#Generate sample from standard multinomial Gaussian Distribution \n",
        "#They are the inputs of decoder network\n",
        "mu=np.zeros(20)\n",
        "cov=np.eye(20)\n",
        "np.random.seed(1337)\n",
        "random_dist=decoder.predict(np.random.multivariate_normal(mu,cov,60000))"
      ],
      "execution_count": 0,
      "outputs": []
    },
    {
      "cell_type": "code",
      "metadata": {
        "id": "_Ssb4Ce23fgz",
        "colab_type": "code",
        "outputId": "9f0e589d-8206-4516-8320-45b8484ab956",
        "colab": {
          "base_uri": "https://localhost:8080/",
          "height": 873
        }
      },
      "source": [
        "import warnings\n",
        "warnings.filterwarnings('ignore')\n",
        "\n",
        "plt.figure(figsize=(8, 12))\n",
        "\n",
        "for i in range(10):\n",
        "\n",
        "  #Get a random original sample for each of the ten categories for comparison\n",
        "  #For generated sample, select some of the most clear ones\n",
        "\n",
        "  idx=np.array(np.where(y_train_==i))[0][sample(list(range(0,6000)),1)]\n",
        "  plt.subplot(10, 2, 2*i+1)\n",
        "  plt.imshow(x_train[idx].reshape(28, 28), cmap=\"gray\")\n",
        "  plt.subplot(10, 2, 4)\n",
        "  plt.imshow(random_dist[8].reshape(28, 28), cmap=\"gray\")\n",
        "  plt.subplot(10, 2, 8)\n",
        "  plt.imshow(random_dist[9700].reshape(28, 28), cmap=\"gray\")\n",
        "  plt.subplot(10, 2, 12)\n",
        "  plt.imshow(random_dist[9000].reshape(28, 28), cmap=\"gray\")\n",
        "  plt.subplot(10, 2, 16)\n",
        "  plt.imshow(random_dist[55].reshape(28, 28), cmap=\"gray\")\n",
        "  plt.subplot(10, 2, 20)\n",
        "  plt.imshow(random_dist[48].reshape(28, 28), cmap=\"gray\")\n",
        "plt.tight_layout()"
      ],
      "execution_count": 0,
      "outputs": [
        {
          "output_type": "display_data",
          "data": {
            "image/png": "[encoded data removed]",
            "text/plain": [
              "<Figure size 576x864 with 15 Axes>"
            ]
          },
          "metadata": {
            "tags": []
          }
        }
      ]
    },
    {
      "cell_type": "markdown",
      "metadata": {
        "id": "QdIdnRU_Fg1k",
        "colab_type": "text"
      },
      "source": [
        "# **Part 3: Check Inference Network**"
      ]
    },
    {
      "cell_type": "code",
      "metadata": {
        "id": "FLkGelNpjZIa",
        "colab_type": "code",
        "colab": {}
      },
      "source": [
        "x_train_encoded = encoder.predict(x_train2, batch_size=batch_size)  #generate hidden variables, 60000*20\n",
        "x_train_decoded = decoder.predict(x_train_encoded) #run through decoder network, 60000*784"
      ],
      "execution_count": 0,
      "outputs": []
    },
    {
      "cell_type": "code",
      "metadata": {
        "id": "tcet3FZkTPVN",
        "colab_type": "code",
        "colab": {}
      },
      "source": [
        "image_idx=sample(list(range(0,60000)),5)\n",
        "image_sample=x_train_encoded[image_idx] #get 5 random samples"
      ],
      "execution_count": 0,
      "outputs": []
    },
    {
      "cell_type": "code",
      "metadata": {
        "id": "WbUGUlU0TpaM",
        "colab_type": "code",
        "outputId": "0ce0fbc8-e84e-4838-ec5a-9f3b7ca04043",
        "colab": {
          "base_uri": "https://localhost:8080/",
          "height": 873
        }
      },
      "source": [
        "plt.figure(figsize=(8, 12))\n",
        "\n",
        "for i in range(5):\n",
        "\n",
        "    plt.subplot(5, 2, 2*i + 1)\n",
        "    plt.imshow(x_train[image_idx][i].reshape(28, 28), cmap=\"gray\")\n",
        "    plt.title(\"Original input\")\n",
        "    plt.colorbar()\n",
        "    plt.subplot(5, 2, 2*i + 2)\n",
        "    plt.imshow(decoder.predict(image_sample)[i].reshape(28, 28),  cmap=\"gray\")\n",
        "    plt.title(\"Reconstruction\")\n",
        "    plt.colorbar()\n",
        "    \n",
        "plt.tight_layout()"
      ],
      "execution_count": 0,
      "outputs": [
        {
          "output_type": "display_data",
          "data": {
            "image/png": "[encoded data removed]",
            "text/plain": [
              "<Figure size 576x864 with 20 Axes>"
            ]
          },
          "metadata": {
            "tags": []
          }
        }
      ]
    },
    {
      "cell_type": "markdown",
      "metadata": {
        "id": "1zOgtsPiFnYm",
        "colab_type": "text"
      },
      "source": [
        "# **Part 4: Classifiers**\n",
        "### Take the images in your dataset,and feed them through the inference network to obtain the corresponding hidden variables."
      ]
    },
    {
      "cell_type": "code",
      "metadata": {
        "id": "YBV936xvGb6B",
        "colab_type": "code",
        "colab": {}
      },
      "source": [
        "#Generate hidden variables of test set, 10000*20\n",
        "x_test_encoded=encoder.predict(x_test2, batch_size=batch_size) "
      ],
      "execution_count": 0,
      "outputs": []
    },
    {
      "cell_type": "markdown",
      "metadata": {
        "id": "AYQCQY4VGLqh",
        "colab_type": "text"
      },
      "source": [
        "## VAE + logistic regression\n",
        "###  Next, use the values of those hidden variables as the input to a logistic regression that predicts the class labels. You should repeat this process in two regimes: one where you train the logistic regression classifier on a small subset of the data, and another where you use a larger subset. Evaluate the resulting test error against a held-out dataset.\n"
      ]
    },
    {
      "cell_type": "code",
      "metadata": {
        "id": "2YovFYNJgmVs",
        "colab_type": "code",
        "colab": {}
      },
      "source": [
        "from sklearn.linear_model import LogisticRegression\n",
        "from sklearn import metrics"
      ],
      "execution_count": 0,
      "outputs": []
    },
    {
      "cell_type": "code",
      "metadata": {
        "id": "thxjMwQrjx3t",
        "colab_type": "code",
        "colab": {}
      },
      "source": [
        "#Logistic Regression for hidden variables, choose solve \"saga\" for faster computation\n",
        "logit_model=LogisticRegression(multi_class='multinomial',solver='saga',max_iter=100)"
      ],
      "execution_count": 0,
      "outputs": []
    },
    {
      "cell_type": "markdown",
      "metadata": {
        "id": "6r0tJ-7mUcEx",
        "colab_type": "text"
      },
      "source": [
        "### Larger subset"
      ]
    },
    {
      "cell_type": "code",
      "metadata": {
        "id": "MSRNrxhhYkmk",
        "colab_type": "code",
        "colab": {}
      },
      "source": [
        "#Fit logistic regression for 60000 hidden variables \n",
        "logit_fit_2=logit_model.fit(x_train_encoded, y_train_) "
      ],
      "execution_count": 0,
      "outputs": []
    },
    {
      "cell_type": "code",
      "metadata": {
        "id": "R6NqIdsrPGVp",
        "colab_type": "code",
        "colab": {}
      },
      "source": [
        "train_error_2=np.mean(logit_fit_2.predict(x_train_encoded)!=y_train_) #training error\n",
        "test_error_2=np.mean(logit_fit_2.predict(x_test_encoded)!=y_test_) #testing error"
      ],
      "execution_count": 0,
      "outputs": []
    },
    {
      "cell_type": "markdown",
      "metadata": {
        "id": "6hLvAtFMUUj-",
        "colab_type": "text"
      },
      "source": [
        "### Smaller subset"
      ]
    },
    {
      "cell_type": "code",
      "metadata": {
        "id": "bbEzE0IgOvTB",
        "colab_type": "code",
        "colab": {}
      },
      "source": [
        "#take a smaller subset(30000)\n",
        "#Different sample sizes were tried later\n",
        "\n",
        "sample_idx=sample(list(range(0,60000)),30000)\n",
        "x_train_encoded_sample=x_train_encoded[sample_idx]\n",
        "y_train_sample=y_train_[sample_idx]"
      ],
      "execution_count": 0,
      "outputs": []
    },
    {
      "cell_type": "code",
      "metadata": {
        "id": "74y2wDc4j_2I",
        "colab_type": "code",
        "colab": {}
      },
      "source": [
        "#Fit logistic regression for 30000 hidden variables \n",
        "logit_fit_1=logit_model.fit(x_train_encoded_sample, y_train_sample)  "
      ],
      "execution_count": 0,
      "outputs": []
    },
    {
      "cell_type": "code",
      "metadata": {
        "id": "7pbtLP1LUOAd",
        "colab_type": "code",
        "colab": {}
      },
      "source": [
        "train_error_1=np.mean(logit_fit_1.predict(x_train_encoded_sample)!=y_train_sample) #training error\n",
        "test_error_1=np.mean(logit_fit_1.predict(x_test_encoded)!=y_test_) #testing error"
      ],
      "execution_count": 0,
      "outputs": []
    },
    {
      "cell_type": "code",
      "metadata": {
        "id": "4nc72aWMYI67",
        "colab_type": "code",
        "outputId": "50efe235-b527-4423-f735-dd42ba811e47",
        "colab": {
          "base_uri": "https://localhost:8080/",
          "height": 102
        }
      },
      "source": [
        "print('Test error')\n",
        "print('\\nLarge (60000):', test_error_2)\n",
        "print('\\nSmall (30000):', test_error_1)"
      ],
      "execution_count": 0,
      "outputs": [
        {
          "output_type": "stream",
          "text": [
            "Test error\n",
            "\n",
            "Large (60000): 0.1955\n",
            "\n",
            "Small (30000): 0.1958\n"
          ],
          "name": "stdout"
        }
      ]
    },
    {
      "cell_type": "markdown",
      "metadata": {
        "id": "mGIE9YYvGjdL",
        "colab_type": "text"
      },
      "source": [
        "## VAE + simple CNN\n",
        "### Do this again using a more flexible classifier: use a simple CNN (one convolutional layer and one fully connected layer) instead of logistic regression.\n",
        "   "
      ]
    },
    {
      "cell_type": "code",
      "metadata": {
        "id": "z8SsvsknoWfP",
        "colab_type": "code",
        "colab": {}
      },
      "source": [
        "from keras.layers import Dense, Activation, Convolution2D, MaxPooling2D, Flatten\n",
        "from keras.utils import np_utils\n",
        "from keras.models import Sequential\n",
        "from keras.optimizers import Adam"
      ],
      "execution_count": 0,
      "outputs": []
    },
    {
      "cell_type": "code",
      "metadata": {
        "id": "I1cJQAVNok5F",
        "colab_type": "code",
        "colab": {}
      },
      "source": [
        "#Convert to categorical variables\n",
        "y_train = np_utils.to_categorical(y_train_, num_classes=10)\n",
        "y_test = np_utils.to_categorical(y_test_, num_classes=10)"
      ],
      "execution_count": 0,
      "outputs": []
    },
    {
      "cell_type": "code",
      "metadata": {
        "id": "qAHSPiTqqfvh",
        "colab_type": "code",
        "colab": {}
      },
      "source": [
        "#Seperate the hidden variables into training set and validation set\n",
        "#Validation set is set to be 1/6 of the sample data\n",
        "#Thus it uses 5/6 of the sample data to train\n",
        "#Different sample sizes were tried later\n",
        "\n",
        "x_train_decoded1=x_train_decoded.reshape(-1, 1,28, 28)\n",
        "x_test1=x_test2.reshape(-1, 1,28, 28)\n",
        "x_train_decoded_sample = decoder.predict(x_train_encoded_sample)\n",
        "x_train_decoded_sample1=x_train_decoded_sample.reshape(-1, 1,28, 28)\n",
        "x_train_decoded_sample_val=x_train_decoded_sample1[-5000:]\n",
        "x_train_decoded_sample2=x_train_decoded_sample1[:-5000]\n",
        "y_train_small=y_train[sample_idx]\n",
        "y_train_small_val=y_train_small[-5000:]\n",
        "y_train_small1=y_train_small[:-5000]\n",
        "x_test_decoded = decoder.predict(x_test_encoded)\n",
        "x_test_decoded1=x_test_decoded.reshape(-1, 1,28, 28)\n",
        "x_train_decoded_val=x_train_decoded1[-10000:]\n",
        "x_train_decoded2=x_train_decoded1[:-10000]\n",
        "y_train_val=y_train[-10000:]\n",
        "y_train1=y_train[:-10000]"
      ],
      "execution_count": 0,
      "outputs": []
    },
    {
      "cell_type": "code",
      "metadata": {
        "id": "XUhEbSlboTRb",
        "colab_type": "code",
        "colab": {}
      },
      "source": [
        "#Construct simple CNN, with one convolutional layer and one fully connected layer\n",
        "model_simple = Sequential()\n",
        "\n",
        "model_simple.add(Convolution2D(\n",
        "    input_shape=(1, 28, 28),\n",
        "    filters=32,\n",
        "    kernel_size=5,\n",
        "    strides=1,\n",
        "    padding='same',     \n",
        "    activation = 'relu',\n",
        "    data_format='channels_first',\n",
        "))\n",
        "model_simple.add(Flatten())\n",
        "model_simple.add(Dense(10, activation='softmax'))\n",
        "\n",
        "adam = Adam(lr=1e-4)\n",
        "model_simple.compile(loss='categorical_crossentropy',\n",
        "              optimizer=adam,\n",
        "              metrics=['accuracy'])"
      ],
      "execution_count": 0,
      "outputs": []
    },
    {
      "cell_type": "markdown",
      "metadata": {
        "id": "ptwqLQHqrj4K",
        "colab_type": "text"
      },
      "source": [
        "### Larger subset"
      ]
    },
    {
      "cell_type": "code",
      "metadata": {
        "id": "n6RHgtZdrWUy",
        "colab_type": "code",
        "outputId": "b4e57026-345c-44a2-8e41-13b831cd196d",
        "colab": {
          "base_uri": "https://localhost:8080/",
          "height": 173
        }
      },
      "source": [
        "#Fit simple CNN for 60000 hidden variables \n",
        "model_simple.fit(x_train_decoded2, y_train1, batch_size=100, \n",
        "                 epochs=3,validation_data=(x_train_decoded_val,y_train_val))\n",
        "\n",
        "#Get loss and prediction accuracy (Also run epoch = 5 later)\n",
        "loss, accuracy1 = model_simple.evaluate(x_test_decoded1, y_test,batch_size=100,)"
      ],
      "execution_count": 0,
      "outputs": [
        {
          "output_type": "stream",
          "text": [
            "Train on 50000 samples, validate on 10000 samples\n",
            "Epoch 1/3\n",
            "50000/50000 [==============================] - 39s 779us/step - loss: 0.8256 - acc: 0.7163 - val_loss: 0.6269 - val_acc: 0.7651\n",
            "Epoch 2/3\n",
            "50000/50000 [==============================] - 37s 740us/step - loss: 0.5961 - acc: 0.7817 - val_loss: 0.5802 - val_acc: 0.7807\n",
            "Epoch 3/3\n",
            "50000/50000 [==============================] - 37s 742us/step - loss: 0.5684 - acc: 0.7909 - val_loss: 0.5738 - val_acc: 0.7844\n",
            "10000/10000 [==============================] - 2s 247us/step\n"
          ],
          "name": "stdout"
        }
      ]
    },
    {
      "cell_type": "markdown",
      "metadata": {
        "id": "2dMTQn7Qrla4",
        "colab_type": "text"
      },
      "source": [
        "### Smaller subset"
      ]
    },
    {
      "cell_type": "code",
      "metadata": {
        "id": "WuQhxz5DrpjC",
        "colab_type": "code",
        "outputId": "6825fae7-c56c-4e5d-abdb-08b29c6fd6bc",
        "colab": {
          "base_uri": "https://localhost:8080/",
          "height": 173
        }
      },
      "source": [
        "#Fit simple CNN for 30000 hidden variables \n",
        "model_simple.fit(x_train_decoded_sample2, y_train_small1,epochs=3, batch_size=100,validation_data=(x_train_decoded_sample_val,y_train_small_val))\n",
        "\n",
        "#Get loss and prediction accuracy (Also run epoch = 5 later)\n",
        "loss, accuracy = model_simple.evaluate(x_test_decoded1, y_test, batch_size=100,)"
      ],
      "execution_count": 0,
      "outputs": [
        {
          "output_type": "stream",
          "text": [
            "Train on 25000 samples, validate on 5000 samples\n",
            "Epoch 1/3\n",
            "25000/25000 [==============================] - 22s 873us/step - loss: 0.9938 - acc: 0.6694 - val_loss: 0.7014 - val_acc: 0.7392\n",
            "Epoch 2/3\n",
            "25000/25000 [==============================] - 20s 782us/step - loss: 0.6426 - acc: 0.7622 - val_loss: 0.6301 - val_acc: 0.7636\n",
            "Epoch 3/3\n",
            "25000/25000 [==============================] - 20s 783us/step - loss: 0.5988 - acc: 0.7782 - val_loss: 0.6069 - val_acc: 0.7732\n",
            "10000/10000 [==============================] - 3s 268us/step\n"
          ],
          "name": "stdout"
        }
      ]
    },
    {
      "cell_type": "code",
      "metadata": {
        "id": "XChs6IUe7KmR",
        "colab_type": "code",
        "outputId": "b07a5127-0a2a-4ee0-c308-88ec95b9bf5d",
        "colab": {
          "base_uri": "https://localhost:8080/",
          "height": 102
        }
      },
      "source": [
        "print('Test error')\n",
        "print('\\nLarge (60000):', 1-accuracy1)\n",
        "print('\\nSmall (30000):', 1-accuracy)"
      ],
      "execution_count": 0,
      "outputs": [
        {
          "output_type": "stream",
          "text": [
            "Test error\n",
            "\n",
            "Large (60000): 0.21260000228881837\n",
            "\n",
            "Small (30000): 0.224200000166893\n"
          ],
          "name": "stdout"
        }
      ]
    },
    {
      "cell_type": "markdown",
      "metadata": {
        "id": "f4npuc2zGrNo",
        "colab_type": "text"
      },
      "source": [
        "## Multilayer CNN\n",
        "###  Compare the results of this process to directly training a multilayer CNN classifier on the original data, both in the setting where we train only on the small subset of the data, and the larger subset."
      ]
    },
    {
      "cell_type": "code",
      "metadata": {
        "id": "l6kfUd4AHOcn",
        "colab_type": "code",
        "colab": {}
      },
      "source": [
        "#Seperate the original data into training set and validation set\n",
        "#Validation set is set to be 1/6 of the sample data\n",
        "#Thus it uses 5/6 of the sample data to train\n",
        "#Different sample sizes were tried later\n",
        "\n",
        "x_train1 = x_train2.reshape(-1, 1,28, 28)\n",
        "x_test1=x_test2.reshape(-1, 1,28, 28)\n",
        "x_train_val=x_train1[-10000:]\n",
        "x_train_mlarge=x_train1[:-10000]\n",
        "y_train_val1=y_train[-10000:]\n",
        "y_train_mlarge=y_train[:-10000]\n",
        "sample_idx1=sample(list(range(0,60000)),30000)\n",
        "x_train_mval=x_train1[sample_idx1][-5000:]\n",
        "x_train_msmall=x_train1[sample_idx1][:-5000]\n",
        "y_train_mval=y_train[sample_idx1][-5000:]\n",
        "y_train_msmall=y_train[sample_idx1][:-5000]"
      ],
      "execution_count": 0,
      "outputs": []
    },
    {
      "cell_type": "code",
      "metadata": {
        "id": "yTzvolPxG_PA",
        "colab_type": "code",
        "colab": {}
      },
      "source": [
        "#Conctruct multiplayer CNN; here CNN with 2 layers were built\n",
        "\n",
        "model_multi = Sequential()\n",
        "\n",
        "# Conv layer 1 output shape (32, 28, 28)\n",
        "model_multi.add(Convolution2D(\n",
        "    batch_input_shape=(None, 1, 28, 28),\n",
        "    filters=32,\n",
        "    kernel_size=5,\n",
        "    strides=1,\n",
        "    padding='same',     # Padding method\n",
        "    data_format='channels_first',\n",
        "))\n",
        "model_multi.add(Activation('relu'))\n",
        "\n",
        "# Pooling layer 1 (max pooling) output shape (32, 14, 14)\n",
        "model_multi.add(MaxPooling2D(\n",
        "    pool_size=2,\n",
        "    strides=2,\n",
        "    padding='same',    # Padding method\n",
        "    data_format='channels_first',\n",
        "))\n",
        "\n",
        "# Conv layer 2 output shape (64, 14, 14)\n",
        "model_multi.add(Convolution2D(64, 5, strides=1, padding='same', data_format='channels_first'))\n",
        "model_multi.add(Activation('relu'))\n",
        "\n",
        "# Pooling layer 2 (max pooling) output shape (64, 7, 7)\n",
        "model_multi.add(MaxPooling2D(2, 2, 'same', data_format='channels_first'))\n",
        "\n",
        "# Fully connected layer 1 input shape (64 * 7 * 7) = (3136), output shape (1024)\n",
        "model_multi.add(Flatten())\n",
        "model_multi.add(Dense(1024))\n",
        "model_multi.add(Activation('relu'))\n",
        "\n",
        "# Fully connected layer 2 to shape (10) for 10 classes\n",
        "model_multi.add(Dense(10))\n",
        "model_multi.add(Activation('softmax'))\n",
        "\n",
        "adam = Adam(lr=1e-4)\n",
        "\n",
        "model_multi.compile(optimizer=adam,\n",
        "              loss='categorical_crossentropy',\n",
        "              metrics=['accuracy'])"
      ],
      "execution_count": 0,
      "outputs": []
    },
    {
      "cell_type": "markdown",
      "metadata": {
        "id": "3JnnLHrhkLfL",
        "colab_type": "text"
      },
      "source": [
        "### Larger subset"
      ]
    },
    {
      "cell_type": "code",
      "metadata": {
        "id": "Wi9P681pkG4O",
        "colab_type": "code",
        "outputId": "aab8732f-be36-49e5-bc46-b2afb6d34e62",
        "colab": {
          "base_uri": "https://localhost:8080/",
          "height": 173
        }
      },
      "source": [
        "#Fit multilayer CNN for 60000 samples\n",
        "model_multi.fit(x_train_mlarge,y_train_mlarge, epochs=3, batch_size=100,validation_data=(x_train_val,y_train_val1))\n",
        "\n",
        "#Get loss and accuracy (Also run epoch = 5 later)\n",
        "loss, accuracy2 = model_multi.evaluate(x_test1, y_test,batch_size=100,)"
      ],
      "execution_count": 0,
      "outputs": [
        {
          "output_type": "stream",
          "text": [
            "Train on 50000 samples, validate on 10000 samples\n",
            "Epoch 1/3\n",
            "50000/50000 [==============================] - 190s 4ms/step - loss: 0.6569 - acc: 0.7773 - val_loss: 0.4738 - val_acc: 0.8303\n",
            "Epoch 2/3\n",
            "50000/50000 [==============================] - 188s 4ms/step - loss: 0.4153 - acc: 0.8531 - val_loss: 0.4203 - val_acc: 0.8502\n",
            "Epoch 3/3\n",
            "50000/50000 [==============================] - 188s 4ms/step - loss: 0.3661 - acc: 0.8688 - val_loss: 0.3549 - val_acc: 0.8739\n",
            "10000/10000 [==============================] - 10s 959us/step\n"
          ],
          "name": "stdout"
        }
      ]
    },
    {
      "cell_type": "markdown",
      "metadata": {
        "id": "tlSWv1OXktdl",
        "colab_type": "text"
      },
      "source": [
        "### Smaller subset"
      ]
    },
    {
      "cell_type": "code",
      "metadata": {
        "id": "5iWs8z0MkxQ3",
        "colab_type": "code",
        "outputId": "6579dc85-dfb6-494c-8dee-08ccd0a2f242",
        "colab": {
          "base_uri": "https://localhost:8080/",
          "height": 207
        }
      },
      "source": [
        "#Fit multilayer CNN for 30000 samples\n",
        "model_multi.fit(x_train_msmall, y_train_msmall, epochs=4, batch_size=100,validation_data=(x_train_mval,y_train_mval))\n",
        "\n",
        "#Get loss and accuracy (Also run epoch = 5 later)\n",
        "loss, accuracy3 = model_multi.evaluate(x_test1, y_test,batch_size=100,)"
      ],
      "execution_count": 0,
      "outputs": [
        {
          "output_type": "stream",
          "text": [
            "Train on 25000 samples, validate on 5000 samples\n",
            "Epoch 1/4\n",
            "25000/25000 [==============================] - 97s 4ms/step - loss: 0.8326 - acc: 0.7185 - val_loss: 0.5274 - val_acc: 0.8170\n",
            "Epoch 2/4\n",
            "25000/25000 [==============================] - 94s 4ms/step - loss: 0.4981 - acc: 0.8194 - val_loss: 0.4612 - val_acc: 0.8316\n",
            "Epoch 3/4\n",
            "25000/25000 [==============================] - 94s 4ms/step - loss: 0.4286 - acc: 0.8490 - val_loss: 0.4085 - val_acc: 0.8590\n",
            "Epoch 4/4\n",
            "25000/25000 [==============================] - 94s 4ms/step - loss: 0.3945 - acc: 0.8603 - val_loss: 0.3779 - val_acc: 0.8710\n",
            "10000/10000 [==============================] - 9s 948us/step\n"
          ],
          "name": "stdout"
        }
      ]
    },
    {
      "cell_type": "code",
      "metadata": {
        "id": "nIo2awuo95Cp",
        "colab_type": "code",
        "outputId": "292c809b-9b6e-4cda-d441-dd1227918e41",
        "colab": {
          "base_uri": "https://localhost:8080/",
          "height": 102
        }
      },
      "source": [
        "print('Test error')\n",
        "print('\\nLarge (60000):', 1-accuracy2)\n",
        "print('\\nSmall (30000):', 1-accuracy3)"
      ],
      "execution_count": 0,
      "outputs": [
        {
          "output_type": "stream",
          "text": [
            "Test error\n",
            "\n",
            "Large (60000): 0.1314000010490417\n",
            "\n",
            "Small (30000): 0.14490000188350682\n"
          ],
          "name": "stdout"
        }
      ]
    },
    {
      "cell_type": "markdown",
      "metadata": {
        "id": "LJpWZRS9HL9m",
        "colab_type": "text"
      },
      "source": [
        "### Discuss how the performance of the three methods (VAE + logistic regression, VAE + simple CNN, and multilayer CNN) varies across different data regimes. Which is better in which setting? In the ‘small labelled data’ regime, where we trained our classifier on a small number of samples, did the dimensionality reduction from the VAE help the simpler classifiers to achieve a better test error than the multilayer CNN classifier?"
      ]
    },
    {
      "cell_type": "markdown",
      "metadata": {
        "id": "HhI5Kdr2C1Cn",
        "colab_type": "text"
      },
      "source": [
        "VAE + logistic regression: The test errors for large and small data regimes are similar. \n",
        "\n",
        "Large (60000): 0.1955\n",
        "\n",
        "Small (30000): 0.1958\n",
        "\n",
        "\\\n",
        "VAE + simple CNN: Large subset has lower error.\n",
        "\n",
        "Large (60000): 0.21260000228881837\n",
        "\n",
        "Small (30000): 0.224200000166893\n",
        "\n",
        "\\\n",
        "Multilayer CNN: Large subset has lower error.\n",
        "\n",
        "Large (60000): 0.1314000010490417\n",
        "\n",
        "Small (30000): 0.14490000188350682\n",
        "\n",
        "\\\n",
        "In small labeled data, dimensionality reduction does not help with the accuracy. Multilayer CNN still has a better error."
      ]
    },
    {
      "cell_type": "markdown",
      "metadata": {
        "id": "WS0_Yl8DIG5x",
        "colab_type": "text"
      },
      "source": [
        "**In order to compare the effect of different training sizes on the test errors of classification, we tried 20000, 30000, 40000, 50000, 60000 samples to train our classifiers. For each classifier, we also tried different latent dimension: 20(which is the dimension we used to build VAE model),50 and 100.**\n",
        "\n",
        "---\n",
        "\n",
        " ## The results of the followings are summarized in result part in the report."
      ]
    },
    {
      "cell_type": "code",
      "metadata": {
        "id": "WfYxS4PJKNnO",
        "colab_type": "code",
        "colab": {}
      },
      "source": [
        "#####################################\n",
        "######VAE + Logistic Regression######\n",
        "#####################################\n",
        "\n",
        "from sklearn.linear_model import LogisticRegressionCV\n",
        "\n",
        "print('Latent Dimension = 100')\n",
        "\n",
        "logit_model=LogisticRegressionCV(cv=5,multi_class='multinomial',solver='sag',max_iter=100)\n",
        "\n",
        "###Smaller sample\n",
        "size=np.array([20000,30000,40000,50000])\n",
        "for size in size:\n",
        "  sample_idx=sample(list(range(0,60000)),size)\n",
        "  x_train_encoded_sample=x_train_encoded[sample_idx]\n",
        "  y_train_sample=y_train_[sample_idx]  \n",
        "\n",
        "  logit_fit=logit_model.fit(x_train_encoded_sample, y_train_sample)\n",
        "\n",
        "  train_error=np.mean(logit_fit.predict(x_train_encoded_sample)!=y_train_sample) \n",
        "  test_error=np.mean(logit_fit.predict(x_test_encoded)!=y_test_)\n",
        "\n",
        "  print('Training Size =',size,':','Training Error:',train_error,';','Testing Error:',test_error)\n",
        "\n",
        "###Larger sample(full): 60000\n",
        "logit_fit_full=logit_model.fit(x_train_encoded, y_train_)\n",
        "\n",
        "train_error_full=np.mean(logit_fit_full.predict(x_train_encoded)!=y_train_) \n",
        "test_error_full=np.mean(logit_fit_full.predict(x_test_encoded)!=y_test_) \n",
        "\n",
        "print('Training Size = 60000', ':','Training Error:',train_error_full,';','Testing Error:',test_error_full)\n"
      ],
      "execution_count": 0,
      "outputs": []
    },
    {
      "cell_type": "code",
      "metadata": {
        "id": "rRCqgEp6Kixo",
        "colab_type": "code",
        "colab": {}
      },
      "source": [
        "############################\n",
        "######VAE + Simple CNN######\n",
        "############################\n",
        "\n",
        "x_train_encoded = encoder.predict(x_train2, batch_size=batch_size)  #generate hidden variables, 60000*20\n",
        "x_train_decoded = generator.predict(x_train_encoded).reshape(-1, 1,28, 28)\n",
        "x_test_encoded=encoder.predict(x_test2, batch_size=batch_size) #10000*20\n",
        "x_test_decoded = generator.predict(x_test_encoded).reshape(-1, 1,28, 28)"
      ],
      "execution_count": 0,
      "outputs": []
    },
    {
      "cell_type": "code",
      "metadata": {
        "id": "uV3mdScMKsa1",
        "colab_type": "code",
        "colab": {}
      },
      "source": [
        "size=np.array([20000,30000,40000,50000,60000])\n",
        "\n",
        "for size in size:\n",
        "\n",
        "  model_simple = Sequential()\n",
        "  \n",
        "  model_simple.add(Convolution2D(\n",
        "      input_shape=(1, 28, 28),\n",
        "      filters=32,\n",
        "      kernel_size=5,\n",
        "      strides=1,\n",
        "      padding='same',     \n",
        "      activation = 'relu',\n",
        "      data_format='channels_first',\n",
        "  ))\n",
        "  model_simple.add(Flatten())\n",
        "  model_simple.add(Dense(10, activation='softmax'))\n",
        "\n",
        "\n",
        "  adam = Adam(lr=1e-4)\n",
        "  model_simple.compile(loss='categorical_crossentropy',\n",
        "                optimizer=adam,\n",
        "                metrics=['accuracy'])\n",
        "  \n",
        "  sample_idx=sample(list(range(0,60000)),size)\n",
        "\n",
        "  x_train_encoded_sample=x_train_encoded[sample_idx]\n",
        "\n",
        "  x_train_decoded_sample = generator.predict(x_train_encoded_sample).reshape(-1, 1,28, 28) ###take sample(20000-60000)\n",
        "\n",
        "  x_decoded_val=x_train_decoded_sample[-int(size/6):] #get validation set of x\n",
        "  x_train_decoded=x_train_decoded_sample[:-int(size/6)]\n",
        "\n",
        "  y_train_sample=y_train[sample_idx] #get validation set of y\n",
        "  y_val=y_train_sample[-int(size/6):]\n",
        "  y_train_small=y_train_sample[:-int(size/6)]\n",
        "\n",
        "  model_simple.fit(x_train_decoded, y_train_small,epochs=5, batch_size=100,validation_data=(x_decoded_val,y_val) )\n",
        "\n",
        "  loss, accuracy = model_simple.evaluate(x_test_decoded, y_test, batch_size=100,)\n",
        "  print('Sample Size= ',size, 'Testing Error = ',1-accuracy)"
      ],
      "execution_count": 0,
      "outputs": []
    },
    {
      "cell_type": "code",
      "metadata": {
        "id": "uxkIgW8IK0b4",
        "colab_type": "code",
        "colab": {}
      },
      "source": [
        "###########################\n",
        "######Multiplayer CNN######\n",
        "###########################\n",
        "\n",
        "size=np.array([20000,30000,40000,50000,60000])\n",
        "for size in size:\n",
        "\n",
        "  model_multi = Sequential()\n",
        "\n",
        "  model_multi.add(Convolution2D(\n",
        "    batch_input_shape=(None, 1, 28, 28),\n",
        "    filters=32,\n",
        "    kernel_size=5,\n",
        "    strides=1,\n",
        "    padding='same',     \n",
        "    data_format='channels_first',\n",
        "  ))\n",
        "  model_multi.add(Activation('relu'))\n",
        "\n",
        "  model_multi.add(MaxPooling2D(\n",
        "    pool_size=2,\n",
        "    strides=2,\n",
        "    padding='same',   \n",
        "    data_format='channels_first',\n",
        "  ))\n",
        "\n",
        "  model_multi.add(Convolution2D(64, 5, strides=1, padding='same', data_format='channels_first'))\n",
        "  model_multi.add(Activation('relu'))\n",
        "\n",
        "  model_multi.add(MaxPooling2D(2, 2, 'same', data_format='channels_first'))\n",
        "\n",
        "  model_multi.add(Flatten())\n",
        "  model_multi.add(Dense(1024))\n",
        "  model_multi.add(Activation('relu'))\n",
        "\n",
        "  model_multi.add(Dense(10))\n",
        "  model_multi.add(Activation('softmax'))\n",
        "\n",
        "  adam = Adam(lr=1e-4)\n",
        "\n",
        "  model_multi.compile(optimizer=adam,\n",
        "              loss='categorical_crossentropy',\n",
        "              metrics=['accuracy']) \n",
        "  \n",
        "  sample_idx=sample(list(range(0,60000)),size)\n",
        "\n",
        "  #Get validation set of x\n",
        "  x_val=x_train1[sample_idx][-int(size/6):] \n",
        "  x_train_small=x_train1[sample_idx][:-int(size/6)]\n",
        "\n",
        "  #Get validation set of y\n",
        "  y_val=y_train[sample_idx][-int(size/6):]\n",
        "  y_train_small=y_train[sample_idx][:-int(size/6)]\n",
        " \n",
        "  model_multi.fit(x_train_small, y_train_small, epochs=5, batch_size=100,validation_data=(x_val,y_val))\n",
        "\n",
        "  loss, accuracy = model_multi.evaluate(x_test1, y_test,batch_size=100,)\n",
        "\n",
        "  print('Training Size =',size,':','Testing Error:', 1-accuracy)"
      ],
      "execution_count": 0,
      "outputs": []
    }
  ]
}